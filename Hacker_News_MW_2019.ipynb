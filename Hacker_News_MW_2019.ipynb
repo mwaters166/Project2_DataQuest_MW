{
 "cells": [
  {
   "cell_type": "markdown",
   "metadata": {
    "collapsed": true
   },
   "source": [
    "# Data Quest Project 2: Hacker News\n",
    "\n",
    "Michele Waters\n",
    "November 2019\n",
    "\n",
    "Data set: https://www.kaggle.com/hacker-news/hacker-news-posts\n",
    "\n",
    "Goal: Determine what kind of posts on Hacker News (HN) website get more comments. We will evaluate posts that begin with \"Ask HN\" (asking HN community a question) and posts that begin with \"Show HN\" (post about a project, product, or object of interest) to understand A) which post type receives more comments on average and B) if posts created at certain times receive more comments on average."
   ]
  },
  {
   "cell_type": "markdown",
   "metadata": {},
   "source": [
    "## A) Do 'Ask HN' posts or 'Show HN' posts receive more comments on average? "
   ]
  },
  {
   "cell_type": "markdown",
   "metadata": {},
   "source": [
    "1) Import & Sort Data"
   ]
  },
  {
   "cell_type": "code",
   "execution_count": 140,
   "metadata": {
    "collapsed": false
   },
   "outputs": [
    {
     "name": "stdout",
     "output_type": "stream",
     "text": [
      "['id', 'title', 'url', 'num_points', 'num_comments', 'author', 'created_at']\n",
      "['12224879', 'Interactive Dynamic Video', 'http://www.interactivedynamicvideo.com/', '386', '52', 'ne0phyte', '8/4/2016 11:52']\n",
      "['10975351', 'How to Use Open Source and Shut the Fuck Up at the Same Time', 'http://hueniverse.com/2016/01/26/how-to-use-open-source-and-shut-the-fuck-up-at-the-same-time/', '39', '10', 'josep2', '1/26/2016 19:30']\n",
      "['11964716', \"Florida DJs May Face Felony for April Fools' Water Joke\", 'http://www.thewire.com/entertainment/2013/04/florida-djs-april-fools-water-joke/63798/', '2', '1', 'vezycash', '6/23/2016 22:20']\n",
      "['11919867', 'Technology ventures: From Idea to Enterprise', 'https://www.amazon.com/Technology-Ventures-Enterprise-Thomas-Byers/dp/0073523429', '3', '1', 'hswarna', '6/17/2016 0:01']\n"
     ]
    }
   ],
   "source": [
    "from csv import reader\n",
    "#import Hacker News Data\n",
    "with open('hacker_news.csv') as f:\n",
    "    input_file=reader(f)\n",
    "    hn=list(input_file)\n",
    "#Function to view first 5 rows of data\n",
    "def view_data(file):\n",
    "    i=0\n",
    "    for row in file:\n",
    "        print(row)\n",
    "        i+=1\n",
    "        if i==5:\n",
    "            break\n",
    "view_data(hn)\n",
    "        "
   ]
  },
  {
   "cell_type": "code",
   "execution_count": 141,
   "metadata": {
    "collapsed": false
   },
   "outputs": [
    {
     "name": "stdout",
     "output_type": "stream",
     "text": [
      "['id', 'title', 'url', 'num_points', 'num_comments', 'author', 'created_at']\n",
      "['12224879', 'Interactive Dynamic Video', 'http://www.interactivedynamicvideo.com/', '386', '52', 'ne0phyte', '8/4/2016 11:52']\n",
      "['10975351', 'How to Use Open Source and Shut the Fuck Up at the Same Time', 'http://hueniverse.com/2016/01/26/how-to-use-open-source-and-shut-the-fuck-up-at-the-same-time/', '39', '10', 'josep2', '1/26/2016 19:30']\n",
      "['11964716', \"Florida DJs May Face Felony for April Fools' Water Joke\", 'http://www.thewire.com/entertainment/2013/04/florida-djs-april-fools-water-joke/63798/', '2', '1', 'vezycash', '6/23/2016 22:20']\n",
      "['11919867', 'Technology ventures: From Idea to Enterprise', 'https://www.amazon.com/Technology-Ventures-Enterprise-Thomas-Byers/dp/0073523429', '3', '1', 'hswarna', '6/17/2016 0:01']\n",
      "['10301696', 'Note by Note: The Making of Steinway L1037 (2007)', 'http://www.nytimes.com/2007/11/07/movies/07stein.html?_r=0', '8', '2', 'walterbell', '9/30/2015 4:12']\n"
     ]
    }
   ],
   "source": [
    "#Store headers, remove first row from dataset\n",
    "headers=hn[0]\n",
    "hn.pop(0)\n",
    "print(headers)\n",
    "view_data(hn)\n"
   ]
  },
  {
   "cell_type": "code",
   "execution_count": 142,
   "metadata": {
    "collapsed": false
   },
   "outputs": [
    {
     "name": "stdout",
     "output_type": "stream",
     "text": [
      "1744\n",
      "1162\n",
      "17194\n",
      "['12296411', 'Ask HN: How to improve my personal website?', '', '2', '6', 'ahmedbaracat', '8/16/2016 9:55']\n",
      "['10610020', 'Ask HN: Am I the only one outraged by Twitter shutting down share counts?', '', '28', '29', 'tkfx', '11/22/2015 13:43']\n",
      "['11610310', 'Ask HN: Aby recent changes to CSS that broke mobile?', '', '1', '1', 'polskibus', '5/2/2016 10:14']\n",
      "['12210105', 'Ask HN: Looking for Employee #3 How do I do it?', '', '1', '3', 'sph130', '8/2/2016 14:20']\n",
      "['10394168', 'Ask HN: Someone offered to buy my browser extension from me. What now?', '', '28', '17', 'roykolak', '10/15/2015 16:38']\n",
      "['10627194', 'Show HN: Wio Link  ESP8266 Based Web of Things Hardware Development Platform', 'https://iot.seeed.cc', '26', '22', 'kfihihc', '11/25/2015 14:03']\n",
      "['10646440', 'Show HN: Something pointless I made', 'http://dn.ht/picklecat/', '747', '102', 'dhotson', '11/29/2015 22:46']\n",
      "['11590768', 'Show HN: Shanhu.io, a programming playground powered by e8vm', 'https://shanhu.io', '1', '1', 'h8liu', '4/28/2016 18:05']\n",
      "['12178806', 'Show HN: Webscope  Easy way for web developers to communicate with Clients', 'http://webscopeapp.com', '3', '3', 'fastbrick', '7/28/2016 7:11']\n",
      "['10872799', 'Show HN: GeoScreenshot  Easily test Geo-IP based web pages', 'https://www.geoscreenshot.com/', '1', '9', 'kpsychwave', '1/9/2016 20:45']\n"
     ]
    }
   ],
   "source": [
    "#Separate posts beginning with 'Ask HN' and 'Show HN'\n",
    "ask_posts=[]\n",
    "show_posts=[]\n",
    "other_posts=[]\n",
    "for row in hn:\n",
    "    title=row[1]\n",
    "    if title.lower().startswith('ask hn'):\n",
    "        ask_posts.append(row)\n",
    "    elif title.lower().startswith('show hn'):\n",
    "        show_posts.append(row)\n",
    "    else:\n",
    "        other_posts.append(row)\n",
    "#Display length & content of post data\n",
    "print(len(ask_posts))\n",
    "print(len(show_posts))\n",
    "print(len(other_posts))\n",
    "view_data(ask_posts)\n",
    "view_data(show_posts)\n",
    "      \n",
    "    \n"
   ]
  },
  {
   "cell_type": "markdown",
   "metadata": {},
   "source": [
    "2) Calculate average nummber of comments on ask posts & show posts "
   ]
  },
  {
   "cell_type": "code",
   "execution_count": 143,
   "metadata": {
    "collapsed": false
   },
   "outputs": [
    {
     "name": "stdout",
     "output_type": "stream",
     "text": [
      "Total comments, Ask HN: 24483\n",
      "~Average comments, Ask HN: 14\n"
     ]
    }
   ],
   "source": [
    "#Total & Average Ask Posts\n",
    "total_ask_comments=0\n",
    "for row in ask_posts:\n",
    "    num_ask_comments=int(row[4])\n",
    "    total_ask_comments+=num_ask_comments\n",
    "avg_ask_comments= total_ask_comments/len(ask_posts)\n",
    "print(\"Total comments, Ask HN: \"+str(total_ask_comments))\n",
    "print(\"~Average comments, Ask HN: \"+str(round(avg_ask_comments)))"
   ]
  },
  {
   "cell_type": "code",
   "execution_count": 144,
   "metadata": {
    "collapsed": false
   },
   "outputs": [
    {
     "name": "stdout",
     "output_type": "stream",
     "text": [
      "Total comments, Show HN: 11988\n",
      "~Average comments, Show HN: 10\n"
     ]
    }
   ],
   "source": [
    "#Total & Average Show Posts\n",
    "total_show_comments=0\n",
    "for row in show_posts:\n",
    "    num_show_comments=int(row[4])\n",
    "    total_show_comments+=num_show_comments\n",
    "avg_show_comments= total_show_comments/len(show_posts)\n",
    "print(\"Total comments, Show HN: \"+str(total_show_comments))\n",
    "print(\"~Average comments, Show HN: \"+str(round(avg_show_comments)))"
   ]
  },
  {
   "cell_type": "markdown",
   "metadata": {},
   "source": [
    "Conclusion: On average, 'Ask HN' posts receive more comments (~14) than 'Show HN' posts (~10)."
   ]
  },
  {
   "cell_type": "markdown",
   "metadata": {},
   "source": [
    "## B) Are 'Ask HN' posts created at certain times more likely to attract comments? "
   ]
  },
  {
   "cell_type": "code",
   "execution_count": 145,
   "metadata": {
    "collapsed": false
   },
   "outputs": [
    {
     "name": "stdout",
     "output_type": "stream",
     "text": [
      "{'00': 55, '21': 109, '19': 110, '16': 108, '06': 44, '05': 46, '08': 48, '13': 85, '12': 73, '03': 54, '04': 47, '20': 80, '01': 60, '10': 59, '07': 34, '18': 109, '15': 116, '09': 45, '23': 68, '17': 100, '02': 58, '14': 107, '22': 71, '11': 58}\n",
      "{'00': 447, '21': 1745, '19': 1188, '16': 1814, '06': 397, '05': 464, '08': 492, '13': 1253, '12': 687, '03': 421, '04': 337, '20': 1722, '01': 683, '10': 793, '07': 267, '18': 1439, '15': 4477, '09': 251, '23': 543, '17': 1146, '02': 1381, '14': 1416, '22': 479, '11': 641}\n"
     ]
    }
   ],
   "source": [
    "#Use datetime module to calculate the amount of ask posts per hour, with the total number of comments\n",
    "import datetime as dt\n",
    "result_list=[]\n",
    "for row in ask_posts:\n",
    "    result_list.append((row[6], row[4])) #date & number of comments\n",
    "counts_by_hour={}\n",
    "comments_by_hour={}\n",
    "for row in result_list:\n",
    "    date=dt.datetime.strptime(row[0], \"%m/%d/%Y %H:%S\")\n",
    "    hour=dt.datetime.strftime(date, \"%H\")\n",
    "    if hour not in counts_by_hour:\n",
    "        counts_by_hour[hour]=1 #initialize number of counts\n",
    "        comments_by_hour[hour]=int(row[1]) #initial number of comments\n",
    "    else:\n",
    "        counts_by_hour[hour]+=1 #increment number of counts by hour\n",
    "        comments_by_hour[hour]+=int(row[1]) #increment total number of comments per hour\n",
    "print(counts_by_hour)\n",
    "print(comments_by_hour)"
   ]
  },
  {
   "cell_type": "code",
   "execution_count": 146,
   "metadata": {
    "collapsed": false
   },
   "outputs": [
    {
     "name": "stdout",
     "output_type": "stream",
     "text": [
      "[['00', 8.127272727272727], ['21', 16.009174311926607], ['19', 10.8], ['16', 16.796296296296298], ['06', 9.022727272727273], ['05', 10.08695652173913], ['08', 10.25], ['13', 14.741176470588234], ['12', 9.41095890410959], ['03', 7.796296296296297], ['04', 7.170212765957447], ['20', 21.525], ['01', 11.383333333333333], ['10', 13.440677966101696], ['07', 7.852941176470588], ['18', 13.20183486238532], ['15', 38.5948275862069], ['09', 5.5777777777777775], ['23', 7.985294117647059], ['17', 11.46], ['02', 23.810344827586206], ['14', 13.233644859813085], ['22', 6.746478873239437], ['11', 11.051724137931034]]\n"
     ]
    }
   ],
   "source": [
    "#Calculate the average number of comments per post for posts created during each hour of the day\n",
    "avg_by_hour=[]\n",
    "for key in comments_by_hour:\n",
    "    avg_by_hour.append([key, (comments_by_hour[key]/counts_by_hour[key])])\n",
    "print(avg_by_hour)    \n",
    "    "
   ]
  },
  {
   "cell_type": "code",
   "execution_count": 147,
   "metadata": {
    "collapsed": false
   },
   "outputs": [
    {
     "name": "stdout",
     "output_type": "stream",
     "text": [
      "Top 5 Hours for Ask Posts Comments: \n",
      "\n",
      "15:00: 38.59 average comments per post\n",
      "02:00: 23.81 average comments per post\n",
      "20:00: 21.52 average comments per post\n",
      "16:00: 16.80 average comments per post\n",
      "21:00: 16.01 average comments per post\n"
     ]
    }
   ],
   "source": [
    "#Sort & format average number of comments by hour, & print the 5 highest values\n",
    "swap_avg_by_hour=[]\n",
    "for row in avg_by_hour:\n",
    "    swap_avg_by_hour.append([row[1], row[0]])\n",
    "#print(swap_avg_by_hour)\n",
    "sorted_swap= sorted(swap_avg_by_hour, reverse=True)\n",
    "#print(sorted_swap) \n",
    "print(\"Top 5 Hours for Ask Posts Comments: \\n\")\n",
    "#view_data(sorted_swap)\n",
    "i=0\n",
    "for row in sorted_swap:\n",
    "    hr_format=dt.datetime.strptime(row[1], \"%H\")\n",
    "    time_format=dt.datetime.strftime(hr_format, \"%H:%S\")\n",
    "    ave_format=\"{:.2f}\".format(row[0])\n",
    "    print(\"{0}: {1} average comments per post\".format(time_format, ave_format))\n",
    "    i+=1\n",
    "    if i==5:\n",
    "        break"
   ]
  },
  {
   "cell_type": "markdown",
   "metadata": {},
   "source": [
    "Conclusion: Based on these results, to have a higher chance of receiving commnets, 'Ask HN' posts should be created at 3pm (15:00) Eastern Time. On average, posts created at this time received ~40 comments. "
   ]
  }
 ],
 "metadata": {
  "kernelspec": {
   "display_name": "Python 3",
   "language": "python",
   "name": "python3"
  },
  "language_info": {
   "codemirror_mode": {
    "name": "ipython",
    "version": 3
   },
   "file_extension": ".py",
   "mimetype": "text/x-python",
   "name": "python",
   "nbconvert_exporter": "python",
   "pygments_lexer": "ipython3",
   "version": "3.4.3"
  }
 },
 "nbformat": 4,
 "nbformat_minor": 2
}
